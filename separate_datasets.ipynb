{
 "cells": [
  {
   "cell_type": "code",
   "execution_count": 1,
   "metadata": {},
   "outputs": [],
   "source": [
    "import os\n",
    "import shutil\n",
    "import pathlib\n",
    "import random\n",
    "import math\n",
    "import sys"
   ]
  },
  {
   "cell_type": "code",
   "execution_count": 2,
   "metadata": {},
   "outputs": [],
   "source": [
    "full_dataset_path = './dataset/training_hu'\n",
    "split_dataset_path = './dataset/split_hu'\n",
    "validation_split = 0.2\n",
    "test_split = 0.02\n",
    "seed = 19011997"
   ]
  },
  {
   "cell_type": "code",
   "execution_count": 3,
   "metadata": {},
   "outputs": [],
   "source": [
    "dataset_path = pathlib.Path(full_dataset_path)\n",
    "split_path = pathlib.Path(split_dataset_path)"
   ]
  },
  {
   "cell_type": "code",
   "execution_count": 4,
   "metadata": {},
   "outputs": [],
   "source": [
    "if os.path.isdir(split_dataset_path):\n",
    "    shutil.rmtree(split_dataset_path)\n",
    "\n",
    "os.makedirs(split_path/'validation')\n",
    "os.makedirs(split_path/'testing')\n"
   ]
  },
  {
   "cell_type": "code",
   "execution_count": 5,
   "metadata": {},
   "outputs": [
    {
     "data": {
      "text/plain": [
       "WindowsPath('dataset/split_hu/training')"
      ]
     },
     "execution_count": 5,
     "metadata": {},
     "output_type": "execute_result"
    }
   ],
   "source": [
    "shutil.copytree(dataset_path, split_path/'training')"
   ]
  },
  {
   "cell_type": "code",
   "execution_count": 6,
   "metadata": {},
   "outputs": [
    {
     "name": "stdout",
     "output_type": "stream",
     "text": [
      "['healthy', 'unhealthy']\n"
     ]
    }
   ],
   "source": [
    "class_names = os.listdir(full_dataset_path)\n",
    "print(class_names)"
   ]
  },
  {
   "cell_type": "code",
   "execution_count": 7,
   "metadata": {},
   "outputs": [],
   "source": [
    "for name in class_names:\n",
    "    os.makedirs(split_path/'validation'/name)\n",
    "    os.makedirs(split_path/'testing'/name)"
   ]
  },
  {
   "cell_type": "code",
   "execution_count": 8,
   "metadata": {},
   "outputs": [
    {
     "name": "stdout",
     "output_type": "stream",
     "text": [
      "17728\n"
     ]
    }
   ],
   "source": [
    "files = list(split_path.glob('training/*/*.jpg'))\n",
    "count = len(files)\n",
    "print(count)"
   ]
  },
  {
   "cell_type": "code",
   "execution_count": 9,
   "metadata": {},
   "outputs": [],
   "source": [
    "def get_filename_tail(file_path):\n",
    "  head, tail2 = os.path.split(file_path)\n",
    "  _, tail1 = os.path.split(head)\n",
    "  return os.path.join(tail1, tail2)\n",
    "\n",
    "def get_class(file_path):\n",
    "  head, _ = os.path.split(file_path)\n",
    "  _, clas = os.path.split(head)\n",
    "  return clas.__str__()"
   ]
  },
  {
   "cell_type": "code",
   "execution_count": 10,
   "metadata": {},
   "outputs": [],
   "source": [
    "random.seed(seed)\n",
    "random.shuffle(files)"
   ]
  },
  {
   "cell_type": "code",
   "execution_count": 11,
   "metadata": {},
   "outputs": [],
   "source": [
    "def move_file(file_path, subset):\n",
    "    subfilename = get_filename_tail(file_path)\n",
    "    shutil.move(file_path, split_path/subset/subfilename)\n",
    "\n",
    "def balanced_copy(subset, count):\n",
    "    total_count = count\n",
    "    balance = {}\n",
    "    for name in class_names:\n",
    "        balance[name] = 0\n",
    "    while count > 0:\n",
    "        max_balance = max(balance.values())\n",
    "        i = 0\n",
    "        flag = all(x == max_balance for x in balance.values())\n",
    "        file_path = ''\n",
    "        if flag:\n",
    "            file_path = files.pop()\n",
    "        while not flag:\n",
    "            file = files[i]\n",
    "            clas = get_class(file)\n",
    "            if balance[clas] < max_balance:\n",
    "                file_path = files.pop(i)\n",
    "                break\n",
    "            i = i + 1\n",
    "\n",
    "        clas = get_class(file_path)\n",
    "        balance[clas] = balance[clas] + 1\n",
    "        move_file(file_path, subset)\n",
    "        count -= 1\n",
    "        sys.stdout.write(str(count))\n",
    "        sys.stdout.flush()\n",
    "        sys.stdout.write(\"\\r\")\n",
    "\n",
    "\n",
    "def unbalanced_copy(subset, count):\n",
    "    total_count = count\n",
    "    while count > 0:\n",
    "        move_file(files.pop(), subset)\n",
    "        count -= 1\n",
    "        sys.stdout.write(str(count))\n",
    "        sys.stdout.flush()\n",
    "        sys.stdout.write(\"\\r\")"
   ]
  },
  {
   "cell_type": "code",
   "execution_count": 12,
   "metadata": {},
   "outputs": [
    {
     "name": "stdout",
     "output_type": "stream",
     "text": []
    }
   ],
   "source": [
    "count_test = int(count * test_split)\n",
    "count_validation = int(count * validation_split)\n",
    "\n",
    "balanced_copy('testing', count_test)\n",
    "unbalanced_copy('validation', count_validation)"
   ]
  }
 ],
 "metadata": {
  "interpreter": {
   "hash": "67aaea516759c96ce56a57570c0e33a236f7efb030515e11bcd71105eeeecfb5"
  },
  "kernelspec": {
   "display_name": "Python 3.9.7 64-bit",
   "language": "python",
   "name": "python3"
  },
  "language_info": {
   "codemirror_mode": {
    "name": "ipython",
    "version": 3
   },
   "file_extension": ".py",
   "mimetype": "text/x-python",
   "name": "python",
   "nbconvert_exporter": "python",
   "pygments_lexer": "ipython3",
   "version": "3.9.7"
  },
  "orig_nbformat": 4
 },
 "nbformat": 4,
 "nbformat_minor": 2
}
